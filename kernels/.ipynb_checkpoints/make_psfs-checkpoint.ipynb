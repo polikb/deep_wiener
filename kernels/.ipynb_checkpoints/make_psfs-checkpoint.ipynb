{
 "cells": [
  {
   "cell_type": "code",
   "execution_count": 1,
   "metadata": {},
   "outputs": [],
   "source": [
    "import numpy as np\n",
    "\n",
    "import os\n",
    "\n",
    "from skimage.io import imread, imsave\n",
    "from skimage import img_as_float\n",
    "from skimage.filters import gaussian\n",
    "from skimage.restoration import wiener\n",
    "from skimage.transform import resize\n",
    "from skimage.color import rgb2gray, rgb2ycbcr, ycbcr2rgb\n",
    "\n",
    "from tqdm import tqdm, tqdm_notebook\n",
    "\n",
    "from scipy.signal import convolve2d, fftconvolve\n",
    "from scipy.linalg import circulant\n",
    "from skimage.restoration import wiener\n",
    "import matplotlib.pyplot as plt\n",
    "%matplotlib inline"
   ]
  },
  {
   "cell_type": "code",
   "execution_count": 2,
   "metadata": {},
   "outputs": [],
   "source": [
    "def gaussian_kernel(size=3, sig=1.):\n",
    "\n",
    "    ax = np.arange(-size // 2 + 1., size // 2 + 1.)\n",
    "    xx, yy = np.meshgrid(ax, ax)\n",
    "\n",
    "    kernel = np.exp(-(xx**2 + yy**2) / (2. * sig**2))\n",
    "\n",
    "    return kernel / np.sum(kernel)"
   ]
  },
  {
   "cell_type": "code",
   "execution_count": 3,
   "metadata": {},
   "outputs": [
    {
     "data": {
      "text/plain": [
       "['1d_div',\n",
       " '.ipynb_checkpoints',\n",
       " 'gl.tif',\n",
       " 'rw.tif',\n",
       " 'big',\n",
       " 'carc.tif',\n",
       " '1_d_big',\n",
       " '1d',\n",
       " 'lor.tif',\n",
       " 'bw.tif',\n",
       " 'Untitled.ipynb']"
      ]
     },
     "execution_count": 3,
     "metadata": {},
     "output_type": "execute_result"
    }
   ],
   "source": [
    "os.listdir()"
   ]
  },
  {
   "cell_type": "code",
   "execution_count": 4,
   "metadata": {},
   "outputs": [],
   "source": [
    "def prepare_kernel(x):\n",
    "    x /= x.sum()\n",
    "    return x"
   ]
  },
  {
   "cell_type": "code",
   "execution_count": 33,
   "metadata": {},
   "outputs": [
    {
     "name": "stderr",
     "output_type": "stream",
     "text": [
      "/home/ferumchrome/anaconda3/lib/python3.6/site-packages/skimage/external/tifffile/tifffile.py:2128: UserWarning: tags are not ordered by code\n",
      "  warnings.warn(\"tags are not ordered by code\")\n"
     ]
    }
   ],
   "source": [
    "k1 = imread('gl.tif') #0,2\n",
    "k2 = imread('bw.tif') #2\n",
    "k3 = imread('lor.tif') #1\n",
    "k4 = imread('rw.tif') #2\n",
    "k5 = imread('carc.tif').clip(0,1) #1+2"
   ]
  },
  {
   "cell_type": "code",
   "execution_count": 34,
   "metadata": {},
   "outputs": [],
   "source": [
    "k1_1 = prepare_kernel(k1[...,0])\n",
    "k1_2 = prepare_kernel(k1[...,2])\n",
    "k2_1 = prepare_kernel(k2[...,2])\n",
    "k3_1 = prepare_kernel(k3[...,1])\n",
    "k4_1 = prepare_kernel(k4[...,2])\n",
    "k5_1 = prepare_kernel(k5[...,1] + k5[...,2])"
   ]
  },
  {
   "cell_type": "code",
   "execution_count": 35,
   "metadata": {},
   "outputs": [
    {
     "data": {
      "text/plain": [
       "<matplotlib.image.AxesImage at 0x7fba66229128>"
      ]
     },
     "execution_count": 35,
     "metadata": {},
     "output_type": "execute_result"
    },
    {
     "data": {
      "image/png": "[encoded data removed]",
      "text/plain": [
       "<matplotlib.figure.Figure at 0x7fba6638d6d8>"
      ]
     },
     "metadata": {},
     "output_type": "display_data"
    }
   ],
   "source": [
    "fig, ax = plt.subplots(1,6)\n",
    "ax[0].imshow(k1_1)\n",
    "ax[1].imshow(k1_2)\n",
    "ax[2].imshow(k2_1)\n",
    "ax[3].imshow(k3_1)\n",
    "ax[4].imshow(k4_1)\n",
    "ax[5].imshow(k5_1)"
   ]
  },
  {
   "cell_type": "code",
   "execution_count": 36,
   "metadata": {},
   "outputs": [],
   "source": [
    "k1_1 = np.pad(k1_1, 3, mode='constant')\n",
    "k1_2 = np.pad(k1_2, 2, mode='constant')\n",
    "k3_1 = np.pad(k3_1, 5, mode='constant')"
   ]
  },
  {
   "cell_type": "code",
   "execution_count": 37,
   "metadata": {},
   "outputs": [
    {
     "name": "stderr",
     "output_type": "stream",
     "text": [
      "/home/ferumchrome/anaconda3/lib/python3.6/site-packages/skimage/transform/_warps.py:84: UserWarning: The default mode, 'constant', will be changed to 'reflect' in skimage 0.15.\n",
      "  warn(\"The default mode, 'constant', will be changed to 'reflect' in \"\n"
     ]
    }
   ],
   "source": [
    "k1_1 = resize(prepare_kernel(k1_1*gaussian_kernel(k1_1.shape[0],3)), (17,17))\n",
    "k1_2 = resize(prepare_kernel(k1_2*gaussian_kernel(k1_2.shape[0],4)), (17,17))\n",
    "k2_1 = prepare_kernel(k2_1*gaussian_kernel(17,10))\n",
    "k3_1 = resize(prepare_kernel(k3_1*gaussian_kernel(k3_1.shape[0],5)), (17,17))\n",
    "k4_1 = prepare_kernel(k4_1*gaussian_kernel(17,4))\n",
    "k5_1 = prepare_kernel(k5_1*gaussian_kernel(17,8))"
   ]
  },
  {
   "cell_type": "code",
   "execution_count": 38,
   "metadata": {},
   "outputs": [
    {
     "data": {
      "text/plain": [
       "<matplotlib.image.AxesImage at 0x7fba660c2668>"
      ]
     },
     "execution_count": 38,
     "metadata": {},
     "output_type": "execute_result"
    },
    {
     "data": {
      "image/png": "[encoded data removed]",
      "text/plain": [
       "<matplotlib.figure.Figure at 0x7fba6645fbe0>"
      ]
     },
     "metadata": {},
     "output_type": "display_data"
    }
   ],
   "source": [
    "fig, ax = plt.subplots(1,6)\n",
    "ax[0].imshow(k1_1)\n",
    "ax[1].imshow(k1_2)\n",
    "ax[2].imshow(k2_1)\n",
    "ax[3].imshow(k3_1)\n",
    "ax[4].imshow(k4_1)\n",
    "ax[5].imshow(k5_1)"
   ]
  },
  {
   "cell_type": "code",
   "execution_count": null,
   "metadata": {},
   "outputs": [],
   "source": []
  },
  {
   "cell_type": "code",
   "execution_count": 39,
   "metadata": {},
   "outputs": [
    {
     "name": "stderr",
     "output_type": "stream",
     "text": [
      "/home/ferumchrome/anaconda3/lib/python3.6/site-packages/skimage/io/_io.py:132: UserWarning: 1d_div/k1_1.tif is a low contrast image\n",
      "  warn('%s is a low contrast image' % fname)\n",
      "/home/ferumchrome/anaconda3/lib/python3.6/site-packages/skimage/io/_io.py:132: UserWarning: 1d_div/k1_2.tif is a low contrast image\n",
      "  warn('%s is a low contrast image' % fname)\n",
      "/home/ferumchrome/anaconda3/lib/python3.6/site-packages/skimage/io/_io.py:132: UserWarning: 1d_div/k2_1.tif is a low contrast image\n",
      "  warn('%s is a low contrast image' % fname)\n",
      "/home/ferumchrome/anaconda3/lib/python3.6/site-packages/skimage/io/_io.py:132: UserWarning: 1d_div/k3_1.tif is a low contrast image\n",
      "  warn('%s is a low contrast image' % fname)\n",
      "/home/ferumchrome/anaconda3/lib/python3.6/site-packages/skimage/io/_io.py:132: UserWarning: 1d_div/k4_1.tif is a low contrast image\n",
      "  warn('%s is a low contrast image' % fname)\n",
      "/home/ferumchrome/anaconda3/lib/python3.6/site-packages/skimage/io/_io.py:132: UserWarning: 1d_div/k5_1.tif is a low contrast image\n",
      "  warn('%s is a low contrast image' % fname)\n"
     ]
    }
   ],
   "source": [
    "imsave(arr=k1_1, fname='1d_div/k1_1.tif')\n",
    "imsave(arr=k1_2, fname='1d_div/k1_2.tif')\n",
    "imsave(arr=k2_1, fname='1d_div/k2_1.tif')\n",
    "imsave(arr=k3_1, fname='1d_div/k3_1.tif')\n",
    "imsave(arr=k4_1, fname='1d_div/k4_1.tif')\n",
    "imsave(arr=k5_1, fname='1d_div/k5_1.tif')"
   ]
  },
  {
   "cell_type": "code",
   "execution_count": null,
   "metadata": {},
   "outputs": [],
   "source": []
  }
 ],
 "metadata": {
  "kernelspec": {
   "display_name": "Python 3",
   "language": "python",
   "name": "python3"
  },
  "language_info": {
   "codemirror_mode": {
    "name": "ipython",
    "version": 3
   },
   "file_extension": ".py",
   "mimetype": "text/x-python",
   "name": "python",
   "nbconvert_exporter": "python",
   "pygments_lexer": "ipython3",
   "version": "3.6.4"
  }
 },
 "nbformat": 4,
 "nbformat_minor": 2
}
